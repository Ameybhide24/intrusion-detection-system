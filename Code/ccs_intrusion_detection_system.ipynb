{
  "cells": [
    {
      "cell_type": "code",
      "execution_count": 2,
      "metadata": {
        "id": "93I0Zdc8OCMd"
      },
      "outputs": [],
      "source": [
        "import pandas as pd\n",
        "import numpy as np\n",
        "from sklearn.preprocessing import OneHotEncoder, MinMaxScaler\n",
        "from sklearn.model_selection import train_test_split\n",
        "from sklearn.svm import SVC\n",
        "from sklearn.metrics import classification_report, accuracy_score, confusion_matrix, ConfusionMatrixDisplay\n",
        "\n",
        "import tensorflow as tf\n",
        "\n",
        "df = pd.read_csv(\"KDDTrain+.txt\", header=None)\n",
        "df_test = pd.read_csv(\"KDDTest+.txt\", header=None)"
      ]
    },
    {
      "cell_type": "code",
      "execution_count": 3,
      "metadata": {
        "id": "zT681eCPOl5j"
      },
      "outputs": [],
      "source": [
        "df.drop(columns=[20], inplace=True)\n",
        "df_test.drop(columns=[20], inplace=True)\n",
        "\n",
        "categorical_cols = [1, 2, 3]\n",
        "encoder = OneHotEncoder()\n",
        "encoded = encoder.fit_transform(df[categorical_cols]).toarray()\n",
        "encoded_test = encoder.transform(df_test[categorical_cols]).toarray()\n",
        "\n",
        "df_encoded = np.concatenate([encoded, df.drop(columns=categorical_cols).drop(columns=[41], axis=1).values], axis=1)\n",
        "df_test_encoded = np.concatenate([encoded_test, df_test.drop(columns=categorical_cols).drop(columns=[41], axis=1).values], axis=1)\n",
        "\n"
      ]
    },
    {
      "cell_type": "code",
      "execution_count": 4,
      "metadata": {
        "id": "O0pQ71cEOpCB"
      },
      "outputs": [],
      "source": [
        "scaler = MinMaxScaler()\n",
        "X_train = scaler.fit_transform(df_encoded)\n",
        "X_test = scaler.transform(df_test_encoded)\n",
        "\n",
        "y_train = df[41].apply(lambda x: 0 if x == 'normal' else 1).values\n",
        "y_test = df_test[41].apply(lambda x: 0 if x == 'normal' else 1).values"
      ]
    },
    {
      "cell_type": "code",
      "execution_count": 5,
      "metadata": {
        "colab": {
          "base_uri": "https://localhost:8080/"
        },
        "id": "rUrzNzsKOru6",
        "outputId": "a95f0a36-4364-4789-f78b-9a13521b9774"
      },
      "outputs": [
        {
          "output_type": "stream",
          "name": "stdout",
          "text": [
            "Epoch 1/50\n",
            "\u001b[1m985/985\u001b[0m \u001b[32m━━━━━━━━━━━━━━━━━━━━\u001b[0m\u001b[37m\u001b[0m \u001b[1m9s\u001b[0m 5ms/step - loss: 0.0500 - val_loss: 0.0354\n",
            "Epoch 2/50\n",
            "\u001b[1m985/985\u001b[0m \u001b[32m━━━━━━━━━━━━━━━━━━━━\u001b[0m\u001b[37m\u001b[0m \u001b[1m6s\u001b[0m 3ms/step - loss: 0.0349 - val_loss: 0.0355\n",
            "Epoch 3/50\n",
            "\u001b[1m985/985\u001b[0m \u001b[32m━━━━━━━━━━━━━━━━━━━━\u001b[0m\u001b[37m\u001b[0m \u001b[1m3s\u001b[0m 3ms/step - loss: 0.0350 - val_loss: 0.0351\n",
            "Epoch 4/50\n",
            "\u001b[1m985/985\u001b[0m \u001b[32m━━━━━━━━━━━━━━━━━━━━\u001b[0m\u001b[37m\u001b[0m \u001b[1m5s\u001b[0m 3ms/step - loss: 0.0349 - val_loss: 0.0349\n",
            "Epoch 5/50\n",
            "\u001b[1m985/985\u001b[0m \u001b[32m━━━━━━━━━━━━━━━━━━━━\u001b[0m\u001b[37m\u001b[0m \u001b[1m3s\u001b[0m 3ms/step - loss: 0.0335 - val_loss: 0.0164\n",
            "Epoch 6/50\n",
            "\u001b[1m985/985\u001b[0m \u001b[32m━━━━━━━━━━━━━━━━━━━━\u001b[0m\u001b[37m\u001b[0m \u001b[1m4s\u001b[0m 4ms/step - loss: 0.0116 - val_loss: 0.0136\n",
            "Epoch 7/50\n",
            "\u001b[1m985/985\u001b[0m \u001b[32m━━━━━━━━━━━━━━━━━━━━\u001b[0m\u001b[37m\u001b[0m \u001b[1m3s\u001b[0m 3ms/step - loss: 0.0091 - val_loss: 0.0129\n",
            "Epoch 8/50\n",
            "\u001b[1m985/985\u001b[0m \u001b[32m━━━━━━━━━━━━━━━━━━━━\u001b[0m\u001b[37m\u001b[0m \u001b[1m3s\u001b[0m 3ms/step - loss: 0.0081 - val_loss: 0.0122\n",
            "Epoch 9/50\n",
            "\u001b[1m985/985\u001b[0m \u001b[32m━━━━━━━━━━━━━━━━━━━━\u001b[0m\u001b[37m\u001b[0m \u001b[1m3s\u001b[0m 3ms/step - loss: 0.0075 - val_loss: 0.0119\n",
            "Epoch 10/50\n",
            "\u001b[1m985/985\u001b[0m \u001b[32m━━━━━━━━━━━━━━━━━━━━\u001b[0m\u001b[37m\u001b[0m \u001b[1m5s\u001b[0m 3ms/step - loss: 0.0072 - val_loss: 0.0117\n",
            "Epoch 11/50\n",
            "\u001b[1m985/985\u001b[0m \u001b[32m━━━━━━━━━━━━━━━━━━━━\u001b[0m\u001b[37m\u001b[0m \u001b[1m5s\u001b[0m 3ms/step - loss: 0.0068 - val_loss: 0.0114\n",
            "Epoch 12/50\n",
            "\u001b[1m985/985\u001b[0m \u001b[32m━━━━━━━━━━━━━━━━━━━━\u001b[0m\u001b[37m\u001b[0m \u001b[1m5s\u001b[0m 3ms/step - loss: 0.0065 - val_loss: 0.0112\n",
            "Epoch 13/50\n",
            "\u001b[1m985/985\u001b[0m \u001b[32m━━━━━━━━━━━━━━━━━━━━\u001b[0m\u001b[37m\u001b[0m \u001b[1m4s\u001b[0m 3ms/step - loss: 0.0064 - val_loss: 0.0110\n",
            "Epoch 14/50\n",
            "\u001b[1m985/985\u001b[0m \u001b[32m━━━━━━━━━━━━━━━━━━━━\u001b[0m\u001b[37m\u001b[0m \u001b[1m3s\u001b[0m 3ms/step - loss: 0.0063 - val_loss: 0.0110\n",
            "Epoch 15/50\n",
            "\u001b[1m985/985\u001b[0m \u001b[32m━━━━━━━━━━━━━━━━━━━━\u001b[0m\u001b[37m\u001b[0m \u001b[1m5s\u001b[0m 3ms/step - loss: 0.0062 - val_loss: 0.0112\n",
            "Epoch 16/50\n",
            "\u001b[1m985/985\u001b[0m \u001b[32m━━━━━━━━━━━━━━━━━━━━\u001b[0m\u001b[37m\u001b[0m \u001b[1m5s\u001b[0m 3ms/step - loss: 0.0061 - val_loss: 0.0107\n",
            "Epoch 17/50\n",
            "\u001b[1m985/985\u001b[0m \u001b[32m━━━━━━━━━━━━━━━━━━━━\u001b[0m\u001b[37m\u001b[0m \u001b[1m5s\u001b[0m 3ms/step - loss: 0.0061 - val_loss: 0.0104\n",
            "Epoch 18/50\n",
            "\u001b[1m985/985\u001b[0m \u001b[32m━━━━━━━━━━━━━━━━━━━━\u001b[0m\u001b[37m\u001b[0m \u001b[1m4s\u001b[0m 3ms/step - loss: 0.0059 - val_loss: 0.0110\n",
            "Epoch 19/50\n",
            "\u001b[1m985/985\u001b[0m \u001b[32m━━━━━━━━━━━━━━━━━━━━\u001b[0m\u001b[37m\u001b[0m \u001b[1m3s\u001b[0m 3ms/step - loss: 0.0059 - val_loss: 0.0107\n",
            "Epoch 20/50\n",
            "\u001b[1m985/985\u001b[0m \u001b[32m━━━━━━━━━━━━━━━━━━━━\u001b[0m\u001b[37m\u001b[0m \u001b[1m5s\u001b[0m 3ms/step - loss: 0.0058 - val_loss: 0.0102\n",
            "Epoch 21/50\n",
            "\u001b[1m985/985\u001b[0m \u001b[32m━━━━━━━━━━━━━━━━━━━━\u001b[0m\u001b[37m\u001b[0m \u001b[1m3s\u001b[0m 3ms/step - loss: 0.0058 - val_loss: 0.0103\n",
            "Epoch 22/50\n",
            "\u001b[1m985/985\u001b[0m \u001b[32m━━━━━━━━━━━━━━━━━━━━\u001b[0m\u001b[37m\u001b[0m \u001b[1m5s\u001b[0m 3ms/step - loss: 0.0055 - val_loss: 0.0103\n",
            "Epoch 23/50\n",
            "\u001b[1m985/985\u001b[0m \u001b[32m━━━━━━━━━━━━━━━━━━━━\u001b[0m\u001b[37m\u001b[0m \u001b[1m3s\u001b[0m 3ms/step - loss: 0.0053 - val_loss: 0.0104\n",
            "Epoch 24/50\n",
            "\u001b[1m985/985\u001b[0m \u001b[32m━━━━━━━━━━━━━━━━━━━━\u001b[0m\u001b[37m\u001b[0m \u001b[1m3s\u001b[0m 3ms/step - loss: 0.0052 - val_loss: 0.0098\n",
            "Epoch 25/50\n",
            "\u001b[1m985/985\u001b[0m \u001b[32m━━━━━━━━━━━━━━━━━━━━\u001b[0m\u001b[37m\u001b[0m \u001b[1m5s\u001b[0m 3ms/step - loss: 0.0051 - val_loss: 0.0102\n",
            "Epoch 26/50\n",
            "\u001b[1m985/985\u001b[0m \u001b[32m━━━━━━━━━━━━━━━━━━━━\u001b[0m\u001b[37m\u001b[0m \u001b[1m6s\u001b[0m 4ms/step - loss: 0.0050 - val_loss: 0.0100\n",
            "Epoch 27/50\n",
            "\u001b[1m985/985\u001b[0m \u001b[32m━━━━━━━━━━━━━━━━━━━━\u001b[0m\u001b[37m\u001b[0m \u001b[1m4s\u001b[0m 3ms/step - loss: 0.0050 - val_loss: 0.0098\n",
            "Epoch 28/50\n",
            "\u001b[1m985/985\u001b[0m \u001b[32m━━━━━━━━━━━━━━━━━━━━\u001b[0m\u001b[37m\u001b[0m \u001b[1m3s\u001b[0m 3ms/step - loss: 0.0050 - val_loss: 0.0098\n",
            "Epoch 29/50\n",
            "\u001b[1m985/985\u001b[0m \u001b[32m━━━━━━━━━━━━━━━━━━━━\u001b[0m\u001b[37m\u001b[0m \u001b[1m5s\u001b[0m 3ms/step - loss: 0.0050 - val_loss: 0.0099\n",
            "Epoch 30/50\n",
            "\u001b[1m985/985\u001b[0m \u001b[32m━━━━━━━━━━━━━━━━━━━━\u001b[0m\u001b[37m\u001b[0m \u001b[1m3s\u001b[0m 3ms/step - loss: 0.0049 - val_loss: 0.0099\n",
            "Epoch 31/50\n",
            "\u001b[1m985/985\u001b[0m \u001b[32m━━━━━━━━━━━━━━━━━━━━\u001b[0m\u001b[37m\u001b[0m \u001b[1m5s\u001b[0m 3ms/step - loss: 0.0049 - val_loss: 0.0097\n",
            "Epoch 32/50\n",
            "\u001b[1m985/985\u001b[0m \u001b[32m━━━━━━━━━━━━━━━━━━━━\u001b[0m\u001b[37m\u001b[0m \u001b[1m5s\u001b[0m 3ms/step - loss: 0.0049 - val_loss: 0.0099\n",
            "Epoch 33/50\n",
            "\u001b[1m985/985\u001b[0m \u001b[32m━━━━━━━━━━━━━━━━━━━━\u001b[0m\u001b[37m\u001b[0m \u001b[1m5s\u001b[0m 3ms/step - loss: 0.0048 - val_loss: 0.0097\n",
            "Epoch 34/50\n",
            "\u001b[1m985/985\u001b[0m \u001b[32m━━━━━━━━━━━━━━━━━━━━\u001b[0m\u001b[37m\u001b[0m \u001b[1m3s\u001b[0m 3ms/step - loss: 0.0048 - val_loss: 0.0097\n",
            "Epoch 35/50\n",
            "\u001b[1m985/985\u001b[0m \u001b[32m━━━━━━━━━━━━━━━━━━━━\u001b[0m\u001b[37m\u001b[0m \u001b[1m5s\u001b[0m 3ms/step - loss: 0.0048 - val_loss: 0.0098\n",
            "Epoch 36/50\n",
            "\u001b[1m985/985\u001b[0m \u001b[32m━━━━━━━━━━━━━━━━━━━━\u001b[0m\u001b[37m\u001b[0m \u001b[1m5s\u001b[0m 3ms/step - loss: 0.0048 - val_loss: 0.0096\n",
            "Epoch 37/50\n",
            "\u001b[1m985/985\u001b[0m \u001b[32m━━━━━━━━━━━━━━━━━━━━\u001b[0m\u001b[37m\u001b[0m \u001b[1m4s\u001b[0m 4ms/step - loss: 0.0048 - val_loss: 0.0097\n",
            "Epoch 38/50\n",
            "\u001b[1m985/985\u001b[0m \u001b[32m━━━━━━━━━━━━━━━━━━━━\u001b[0m\u001b[37m\u001b[0m \u001b[1m3s\u001b[0m 3ms/step - loss: 0.0047 - val_loss: 0.0096\n",
            "Epoch 39/50\n",
            "\u001b[1m985/985\u001b[0m \u001b[32m━━━━━━━━━━━━━━━━━━━━\u001b[0m\u001b[37m\u001b[0m \u001b[1m5s\u001b[0m 3ms/step - loss: 0.0047 - val_loss: 0.0096\n",
            "Epoch 40/50\n",
            "\u001b[1m985/985\u001b[0m \u001b[32m━━━━━━━━━━━━━━━━━━━━\u001b[0m\u001b[37m\u001b[0m \u001b[1m5s\u001b[0m 3ms/step - loss: 0.0047 - val_loss: 0.0096\n",
            "Epoch 41/50\n",
            "\u001b[1m985/985\u001b[0m \u001b[32m━━━━━━━━━━━━━━━━━━━━\u001b[0m\u001b[37m\u001b[0m \u001b[1m3s\u001b[0m 3ms/step - loss: 0.0047 - val_loss: 0.0095\n",
            "Epoch 42/50\n",
            "\u001b[1m985/985\u001b[0m \u001b[32m━━━━━━━━━━━━━━━━━━━━\u001b[0m\u001b[37m\u001b[0m \u001b[1m5s\u001b[0m 3ms/step - loss: 0.0047 - val_loss: 0.0092\n",
            "Epoch 43/50\n",
            "\u001b[1m985/985\u001b[0m \u001b[32m━━━━━━━━━━━━━━━━━━━━\u001b[0m\u001b[37m\u001b[0m \u001b[1m4s\u001b[0m 4ms/step - loss: 0.0046 - val_loss: 0.0094\n",
            "Epoch 44/50\n",
            "\u001b[1m985/985\u001b[0m \u001b[32m━━━━━━━━━━━━━━━━━━━━\u001b[0m\u001b[37m\u001b[0m \u001b[1m3s\u001b[0m 3ms/step - loss: 0.0046 - val_loss: 0.0091\n",
            "Epoch 45/50\n",
            "\u001b[1m985/985\u001b[0m \u001b[32m━━━━━━━━━━━━━━━━━━━━\u001b[0m\u001b[37m\u001b[0m \u001b[1m3s\u001b[0m 3ms/step - loss: 0.0046 - val_loss: 0.0089\n",
            "Epoch 46/50\n",
            "\u001b[1m985/985\u001b[0m \u001b[32m━━━━━━━━━━━━━━━━━━━━\u001b[0m\u001b[37m\u001b[0m \u001b[1m3s\u001b[0m 3ms/step - loss: 0.0046 - val_loss: 0.0091\n",
            "Epoch 47/50\n",
            "\u001b[1m985/985\u001b[0m \u001b[32m━━━━━━━━━━━━━━━━━━━━\u001b[0m\u001b[37m\u001b[0m \u001b[1m5s\u001b[0m 3ms/step - loss: 0.0045 - val_loss: 0.0089\n",
            "Epoch 48/50\n",
            "\u001b[1m985/985\u001b[0m \u001b[32m━━━━━━━━━━━━━━━━━━━━\u001b[0m\u001b[37m\u001b[0m \u001b[1m5s\u001b[0m 3ms/step - loss: 0.0045 - val_loss: 0.0089\n",
            "Epoch 49/50\n",
            "\u001b[1m985/985\u001b[0m \u001b[32m━━━━━━━━━━━━━━━━━━━━\u001b[0m\u001b[37m\u001b[0m \u001b[1m5s\u001b[0m 3ms/step - loss: 0.0045 - val_loss: 0.0090\n",
            "Epoch 50/50\n",
            "\u001b[1m985/985\u001b[0m \u001b[32m━━━━━━━━━━━━━━━━━━━━\u001b[0m\u001b[37m\u001b[0m \u001b[1m3s\u001b[0m 3ms/step - loss: 0.0044 - val_loss: 0.0089\n"
          ]
        },
        {
          "output_type": "execute_result",
          "data": {
            "text/plain": [
              "<keras.src.callbacks.history.History at 0x7c4705c30090>"
            ]
          },
          "metadata": {},
          "execution_count": 5
        }
      ],
      "source": [
        "def build_ssae():\n",
        "    inputs = tf.keras.Input(shape=(X_train.shape[1],))\n",
        "    encoded = tf.keras.layers.Dense(100, activation='sigmoid')(inputs)\n",
        "    encoded = tf.keras.layers.Dense(85, activation='sigmoid')(encoded)\n",
        "    encoded = tf.keras.layers.Dense(55, activation='sigmoid')(encoded)\n",
        "    bottleneck = tf.keras.layers.Dense(5, activation='sigmoid')(encoded)\n",
        "\n",
        "    decoded = tf.keras.layers.Dense(55, activation='sigmoid')(bottleneck)\n",
        "    decoded = tf.keras.layers.Dense(85, activation='sigmoid')(decoded)\n",
        "    decoded = tf.keras.layers.Dense(100, activation='sigmoid')(decoded)\n",
        "    outputs = tf.keras.layers.Dense(X_train.shape[1], activation='sigmoid')(decoded)\n",
        "\n",
        "    autoencoder = tf.keras.Model(inputs, outputs)\n",
        "    encoder_model = tf.keras.Model(inputs, bottleneck)\n",
        "\n",
        "    autoencoder.compile(optimizer='adam', loss='mse')\n",
        "    return autoencoder, encoder_model\n",
        "\n",
        "autoencoder, encoder_model = build_ssae()\n",
        "autoencoder.fit(X_train, X_train, epochs=50, batch_size=128, validation_data=(X_test, X_test), verbose=1)"
      ]
    },
    {
      "cell_type": "code",
      "execution_count": 6,
      "metadata": {
        "colab": {
          "base_uri": "https://localhost:8080/"
        },
        "id": "yHMZke6TbmKG",
        "outputId": "53d113a2-c215-4a6a-a704-dcdd2b7a1af4"
      },
      "outputs": [
        {
          "output_type": "stream",
          "name": "stdout",
          "text": [
            "\n",
            "Starting 5-Fold Cross-Validation using SSAE+SVM...\n",
            "\n",
            "\n",
            "--- Fold 1 ---\n",
            "\u001b[1m3150/3150\u001b[0m \u001b[32m━━━━━━━━━━━━━━━━━━━━\u001b[0m\u001b[37m\u001b[0m \u001b[1m5s\u001b[0m 1ms/step\n",
            "\u001b[1m788/788\u001b[0m \u001b[32m━━━━━━━━━━━━━━━━━━━━\u001b[0m\u001b[37m\u001b[0m \u001b[1m1s\u001b[0m 2ms/step\n",
            "Fold 1 Accuracy: 0.8842\n",
            "              precision    recall  f1-score   support\n",
            "\n",
            "           0     0.8482    0.9542    0.8981     13469\n",
            "           1     0.9386    0.8039    0.8660     11726\n",
            "\n",
            "    accuracy                         0.8842     25195\n",
            "   macro avg     0.8934    0.8790    0.8820     25195\n",
            "weighted avg     0.8903    0.8842    0.8832     25195\n",
            "\n",
            "\n",
            "--- Fold 2 ---\n",
            "\u001b[1m3150/3150\u001b[0m \u001b[32m━━━━━━━━━━━━━━━━━━━━\u001b[0m\u001b[37m\u001b[0m \u001b[1m4s\u001b[0m 1ms/step\n",
            "\u001b[1m788/788\u001b[0m \u001b[32m━━━━━━━━━━━━━━━━━━━━\u001b[0m\u001b[37m\u001b[0m \u001b[1m1s\u001b[0m 1ms/step\n",
            "Fold 2 Accuracy: 0.8820\n",
            "              precision    recall  f1-score   support\n",
            "\n",
            "           0     0.8445    0.9553    0.8965     13469\n",
            "           1     0.9395    0.7979    0.8629     11726\n",
            "\n",
            "    accuracy                         0.8820     25195\n",
            "   macro avg     0.8920    0.8766    0.8797     25195\n",
            "weighted avg     0.8887    0.8820    0.8809     25195\n",
            "\n",
            "\n",
            "--- Fold 3 ---\n",
            "\u001b[1m3150/3150\u001b[0m \u001b[32m━━━━━━━━━━━━━━━━━━━━\u001b[0m\u001b[37m\u001b[0m \u001b[1m5s\u001b[0m 1ms/step\n",
            "\u001b[1m788/788\u001b[0m \u001b[32m━━━━━━━━━━━━━━━━━━━━\u001b[0m\u001b[37m\u001b[0m \u001b[1m1s\u001b[0m 1ms/step\n",
            "Fold 3 Accuracy: 0.8833\n",
            "              precision    recall  f1-score   support\n",
            "\n",
            "           0     0.8482    0.9523    0.8972     13469\n",
            "           1     0.9362    0.8042    0.8652     11726\n",
            "\n",
            "    accuracy                         0.8833     25195\n",
            "   macro avg     0.8922    0.8782    0.8812     25195\n",
            "weighted avg     0.8891    0.8833    0.8823     25195\n",
            "\n",
            "\n",
            "--- Fold 4 ---\n",
            "\u001b[1m3150/3150\u001b[0m \u001b[32m━━━━━━━━━━━━━━━━━━━━\u001b[0m\u001b[37m\u001b[0m \u001b[1m5s\u001b[0m 1ms/step\n",
            "\u001b[1m788/788\u001b[0m \u001b[32m━━━━━━━━━━━━━━━━━━━━\u001b[0m\u001b[37m\u001b[0m \u001b[1m1s\u001b[0m 1ms/step\n",
            "Fold 4 Accuracy: 0.8806\n",
            "              precision    recall  f1-score   support\n",
            "\n",
            "           0     0.8433    0.9540    0.8952     13468\n",
            "           1     0.9377    0.7963    0.8613     11726\n",
            "\n",
            "    accuracy                         0.8806     25194\n",
            "   macro avg     0.8905    0.8752    0.8782     25194\n",
            "weighted avg     0.8872    0.8806    0.8794     25194\n",
            "\n",
            "\n",
            "--- Fold 5 ---\n",
            "\u001b[1m3150/3150\u001b[0m \u001b[32m━━━━━━━━━━━━━━━━━━━━\u001b[0m\u001b[37m\u001b[0m \u001b[1m4s\u001b[0m 1ms/step\n",
            "\u001b[1m788/788\u001b[0m \u001b[32m━━━━━━━━━━━━━━━━━━━━\u001b[0m\u001b[37m\u001b[0m \u001b[1m1s\u001b[0m 1ms/step\n",
            "Fold 5 Accuracy: 0.8832\n",
            "              precision    recall  f1-score   support\n",
            "\n",
            "           0     0.8464    0.9547    0.8973     13468\n",
            "           1     0.9390    0.8010    0.8646     11726\n",
            "\n",
            "    accuracy                         0.8832     25194\n",
            "   macro avg     0.8927    0.8779    0.8809     25194\n",
            "weighted avg     0.8895    0.8832    0.8821     25194\n",
            "\n",
            "\n",
            "Average Cross-Validation Accuracy: 0.8827\n"
          ]
        }
      ],
      "source": [
        "from sklearn.model_selection import StratifiedKFold\n",
        "from sklearn.metrics import classification_report, accuracy_score\n",
        "from sklearn.svm import SVC\n",
        "import numpy as np\n",
        "\n",
        "skf = StratifiedKFold(n_splits=5, shuffle=True, random_state=42)\n",
        "acc_scores = []\n",
        "\n",
        "print(\"\\nStarting 5-Fold Cross-Validation using SSAE+SVM...\\n\")\n",
        "\n",
        "for fold, (train_idx, val_idx) in enumerate(skf.split(X_train, y_train), 1):\n",
        "    print(f\"\\n--- Fold {fold} ---\")\n",
        "\n",
        "    X_fold_raw_train, X_fold_raw_val = X_train[train_idx], X_train[val_idx]\n",
        "    y_fold_train, y_fold_val = y_train[train_idx], y_train[val_idx]\n",
        "\n",
        "    X_fold_train_encoded = encoder_model.predict(X_fold_raw_train)\n",
        "    X_fold_val_encoded = encoder_model.predict(X_fold_raw_val)\n",
        "\n",
        "    svm = SVC(kernel='rbf', C=10, gamma=0.01, class_weight='balanced')\n",
        "    svm.fit(X_fold_train_encoded, y_fold_train)\n",
        "    y_pred = svm.predict(X_fold_val_encoded)\n",
        "\n",
        "    acc = accuracy_score(y_fold_val, y_pred)\n",
        "    acc_scores.append(acc)\n",
        "\n",
        "    print(f\"Fold {fold} Accuracy: {acc:.4f}\")\n",
        "    print(classification_report(y_fold_val, y_pred, digits=4))\n",
        "\n",
        "    if fold == 5:\n",
        "        final_y_true = y_fold_val\n",
        "        final_y_pred = y_pred\n",
        "\n",
        "print(\"\\nAverage Cross-Validation Accuracy: {:.4f}\".format(np.mean(acc_scores)))\n"
      ]
    },
    {
      "cell_type": "code",
      "source": [
        "import matplotlib.pyplot as plt\n",
        "\n",
        "cm = confusion_matrix(final_y_true, final_y_pred)\n",
        "disp = ConfusionMatrixDisplay(confusion_matrix=cm, display_labels=['No Attack', 'Attack'])\n",
        "disp.plot(cmap='Blues')\n",
        "plt.title(\"Confusion Matrix\")\n",
        "plt.show()"
      ],
      "metadata": {
        "colab": {
          "base_uri": "https://localhost:8080/",
          "height": 472
        },
        "id": "xNMZRLSNVN_R",
        "outputId": "fd97061f-1edc-4611-ceaf-2be2061a50b9"
      },
      "execution_count": 8,
      "outputs": [
        {
          "output_type": "display_data",
          "data": {
            "text/plain": [
              "<Figure size 640x480 with 2 Axes>"
            ],
            "image/png": "[encoded data removed]"
          },
          "metadata": {}
        }
      ]
    }
  ],
  "metadata": {
    "colab": {
      "provenance": [],
      "gpuType": "T4"
    },
    "kernelspec": {
      "display_name": "Python 3",
      "name": "python3"
    },
    "language_info": {
      "name": "python"
    },
    "accelerator": "GPU"
  },
  "nbformat": 4,
  "nbformat_minor": 0
}